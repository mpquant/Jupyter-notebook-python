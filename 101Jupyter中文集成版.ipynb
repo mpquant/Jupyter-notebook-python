{
 "cells": [
  {
   "cell_type": "markdown",
   "id": "5a89ef2a",
   "metadata": {},
   "source": [
    "# Jupyter 中文集成版\n",
    "\n",
    "Jupyter 中文集成版，将Python3.8环境与Jupyter深度集成，并内置pandas、numpy、matplotlib数学计算、图表显示库，当然您也可以继续安装\n",
    "\n",
    "其它三方库，它免除了您想使用Jupyter但确需要安装Python环境等一系列复杂配置工作（并有可能因为系统差异，造成的安装失败或者多个Python\n",
    "\n",
    "版本冲突的问题）\n",
    "\n",
    "只需要花一个下载的时间，您就可以轻松的开始Jupyter之旅！纯中文友好提示，力争做最好的简洁、好用、实用的集成工具！\n",
    "\n",
    "每个代码页的文档无需手动保存（3秒自动保存，也可以直接CTRL+S手动保存）\n",
    "\n",
    "来吧！快来体验吧！\n"
   ]
  },
  {
   "cell_type": "code",
   "execution_count": 1,
   "id": "82d9e6b6",
   "metadata": {},
   "outputs": [
    {
     "name": "stdout",
     "output_type": "stream",
     "text": [
      "hello Jupyter\n",
      "0\n",
      "1\n",
      "2\n",
      "3\n",
      "4\n"
     ]
    }
   ],
   "source": [
    "\n",
    "print('hello Jupyter')\n",
    "for i in range(5):\n",
    "    print(i)"
   ]
  }
 ],
 "metadata": {
  "kernelspec": {
   "display_name": "Python 3 (ipykernel)",
   "language": "python",
   "name": "python3"
  },
  "language_info": {
   "codemirror_mode": {
    "name": "ipython",
    "version": 3
   },
   "file_extension": ".py",
   "mimetype": "text/x-python",
   "name": "python",
   "nbconvert_exporter": "python",
   "pygments_lexer": "ipython3",
   "version": "3.8.10"
  }
 },
 "nbformat": 4,
 "nbformat_minor": 5
}
