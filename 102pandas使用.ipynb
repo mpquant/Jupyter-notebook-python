{
 "cells": [
  {
   "cell_type": "markdown",
   "id": "5a89ef2a",
   "metadata": {},
   "source": [
    "# Pandas \n",
    "\n",
    "- 是 Python 语言的一个扩展程序库， 主要应用于数据分析。\n",
    "\n",
    "- 是一个开放源码、BSD 许可的库，提供高性能、易于使用的数据结构和数据分析工具。\n",
    "\n",
    "- 名字衍生自术语 \"panel data\"（面板数据）和 \"Python data analysis\"（Python 数据分析）。\n",
    "\n",
    "- 一个强大的分析结构化数据的工具集，基础是 Numpy（提供高性能的矩阵运算）。\n",
    "\n",
    "- 可以从各种文件格式比如 CSV、JSON、SQL、Microsoft Excel 导入数据。\n",
    "\n",
    "- 可以对各种数据进行运算操作，比如归并、再成形、选择，还有数据清洗和数据加工特征。\n",
    "\n",
    "- 广泛应用在学术、金融、统计学等各个数据分析领域"
   ]
  },
  {
   "cell_type": "code",
   "execution_count": null,
   "id": "82d9e6b6",
   "metadata": {},
   "outputs": [],
   "source": [
    "import pandas as pd\n",
    "\n",
    "data = [['jupyter中文集成版',1],['python',2],['jupyter',3]]\n",
    "\n",
    "df = pd.DataFrame(data,columns=['name','order'])\n",
    "\n",
    "print(df)"
   ]
  },
  {
   "cell_type": "markdown",
   "id": "9aaf11d8",
   "metadata": {},
   "source": [
    "## Pandas 应用\n",
    "\n",
    "Pandas 的主要数据结构是 Series （一维数据）与 DataFrame（二维数据），这两种数据结构足以处理金融、统计、社会科学、工程等领域里的大\n",
    "\n",
    "多数典型用例。\n",
    "\n",
    "## 数据结构\n",
    "\n",
    "Series 是一种类似于一维数组的对象，它由一组数据（各种Numpy数据类型）以及一组与之相关的数据标签（即索引）组成。\n",
    "\n",
    "DataFrame 是一个表格型的数据结构，它含有一组有序的列，每列可以是不同的值类型（数值、字符串、布尔型值）。DataFrame 既有行索引也有\n",
    "\n",
    "列索引，它可以被看做由 Series 组成的字典（共同用一个索引）。\n"
   ]
  },
  {
   "cell_type": "markdown",
   "id": "1fdaedb0",
   "metadata": {},
   "source": [
    "### Pandas 数据结构 - Series\n",
    "\n",
    "Pandas Series 类似表格中的一个列（column），类似于一维数组，可以保存任何数据类型。\n",
    "\n",
    "Series 由索引（index）和列组成，函数如下：\n",
    "\n",
    "***pandas.Series( data, index, dtype, name, copy)***\n",
    "\n",
    "#### 参数说明：\n",
    "\n",
    "- data：一组数据(ndarray 类型)。\n",
    "\n",
    "- index：数据索引标签，如果不指定，默认从 0 开始。\n",
    "\n",
    "- dtype：数据类型，默认会自己判断。\n",
    "\n",
    "- name：设置名称。\n",
    "\n",
    "- copy：拷贝数据，默认为 False。\n"
   ]
  },
  {
   "cell_type": "markdown",
   "id": "f12b1518",
   "metadata": {},
   "source": [
    "## Series  与 DataFrame 关系图\n",
    "\n",
    "![avatar][base64str]\n",
    "\n",
    "[base64str]:data:image/png;base64,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"
   ]
  },
  {
   "cell_type": "code",
   "execution_count": null,
   "id": "689db7bc",
   "metadata": {},
   "outputs": [],
   "source": [
    "#  第一列为索引列，未指定，pandas会自动分配\n",
    "import pandas as pd\n",
    "\n",
    "a = [1, 2, 3, 4, 5, 6]\n",
    "\n",
    "myser = pd.Series(a)\n",
    "\n",
    "print(myser)"
   ]
  },
  {
   "cell_type": "code",
   "execution_count": null,
   "id": "8db2676f",
   "metadata": {},
   "outputs": [],
   "source": [
    "\n",
    "# 指定索引列\n",
    "\n",
    "import pandas as pd\n",
    "\n",
    "data = {1: \"Python\", 2: \"Jave\", 3: \"C++\"}\n",
    "\n",
    "myser = pd.Series(data, index = [1, 2, 3])\n",
    "\n",
    "print(myser)"
   ]
  },
  {
   "cell_type": "markdown",
   "id": "051c63e2",
   "metadata": {},
   "source": [
    "#### Pandas 数据结构 - DataFrame\n",
    "\n",
    "DataFrame 是一个表格型的数据结构，它含有一组有序的列，每列可以是不同的值类型（数值、字符串、布尔型值）。DataFrame 既有行索引也有\n",
    "\n",
    "列索引，它可以被看做由 Series 组成的字典（共同用一个索引）。"
   ]
  },
  {
   "cell_type": "code",
   "execution_count": null,
   "id": "86119cb5",
   "metadata": {},
   "outputs": [],
   "source": [
    "import pandas as pd\n",
    "\n",
    "data = [['jupyter中文集成版',1],['python',2],['jupyter',3]]\n",
    "\n",
    "df = pd.DataFrame(data,columns=['name','order'])\n",
    "\n",
    "print(df)"
   ]
  }
 ],
 "metadata": {
  "kernelspec": {
   "display_name": "Python 3 (ipykernel)",
   "language": "python",
   "name": "python3"
  },
  "language_info": {
   "codemirror_mode": {
    "name": "ipython",
    "version": 3
   },
   "file_extension": ".py",
   "mimetype": "text/x-python",
   "name": "python",
   "nbconvert_exporter": "python",
   "pygments_lexer": "ipython3",
   "version": "3.8.10"
  }
 },
 "nbformat": 4,
 "nbformat_minor": 5
}
