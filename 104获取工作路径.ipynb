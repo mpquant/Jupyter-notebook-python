{
 "cells": [
  {
   "cell_type": "markdown",
   "id": "5a89ef2a",
   "metadata": {},
   "source": [
    "#  Python 获取当前文件路径方法\n",
    "\n",
    "- **os.getcwd()**\n",
    "\n",
    "获取文件当前工作目录路径,即当前项目的路径（绝对路径）"
   ]
  },
  {
   "cell_type": "code",
   "execution_count": 1,
   "id": "82d9e6b6",
   "metadata": {},
   "outputs": [
    {
     "name": "stdout",
     "output_type": "stream",
     "text": [
      "os.getcwd() =  F:\\其它\\jupyterborwser\\jupyterborwsersimple\\jupyterborwser\\bin\\Debug\\myitem\\我的项目\n"
     ]
    }
   ],
   "source": [
    "\n",
    "import os\n",
    "\n",
    "print(\"os.getcwd() = \", os.getcwd())\n"
   ]
  },
  {
   "cell_type": "markdown",
   "id": "c81c3450",
   "metadata": {},
   "source": [
    "\n",
    "- **sys.path**\n",
    "\n",
    "返回当前工作路径的字符串列表（绝对路径），包含python的环境路径 ，库文件路径等"
   ]
  },
  {
   "cell_type": "code",
   "execution_count": null,
   "id": "f5402405",
   "metadata": {},
   "outputs": [],
   "source": [
    "import sys\n",
    "\n",
    "print(sys.path)"
   ]
  }
 ],
 "metadata": {
  "kernelspec": {
   "display_name": "Python 3 (ipykernel)",
   "language": "python",
   "name": "python3"
  },
  "language_info": {
   "codemirror_mode": {
    "name": "ipython",
    "version": 3
   },
   "file_extension": ".py",
   "mimetype": "text/x-python",
   "name": "python",
   "nbconvert_exporter": "python",
   "pygments_lexer": "ipython3",
   "version": "3.8.10"
  }
 },
 "nbformat": 4,
 "nbformat_minor": 5
}
